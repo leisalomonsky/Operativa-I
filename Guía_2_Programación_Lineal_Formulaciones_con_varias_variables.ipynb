{
  "cells": [
    {
      "cell_type": "markdown",
      "metadata": {
        "id": "OXAymNcYDoH7"
      },
      "source": [
        "## Ejercicio 1"
      ]
    },
    {
      "cell_type": "markdown",
      "metadata": {
        "id": "2EvpD13gDrvg"
      },
      "source": [
        "Se dispone de los metales A, B, C y D de las cuales conocemos sus propiedades; y se desea **producir una aleación al menor costo posible** con un rango de valores para cada una de las propiedades. Esto resulta en la siguiente tabla:\n",
        "\n",
        "|Propiedades    |A   |B   |C   |D   |Min |Máx |\n",
        "|:-------------:|----|----|----|----|----|----|\n",
        "|Densidad (DEN) |6500|5800|6200|5900|5950|6050|\n",
        "|% Carbono (CAR)|0.2 |0.35|0.15|0.11|0.1 |0.3 |\n",
        "|% Fósforo (FOS)|0.05|0.015|0.065|0.1|0.045|0.055| \n"
      ]
    },
    {
      "cell_type": "markdown",
      "metadata": {
        "id": "XaibF5W8F7DZ"
      },
      "source": [
        "Las restricciones del problema se van a formular como:\n",
        "\n",
        "> DEN: $5950 ≤ 6500.A + 5800.B + 6200.C + 5900.D ≤ 6050$\n",
        "\n",
        "> CAR: $0,1 ≤ 0,2.A + 0,35.B + 0,15.C + 0,11.D ≤ 0,3$\n",
        "\n",
        "> FOS: $0,045 ≤ 0,05.A + 0,015.B + 0,065.C + 0,1.D ≤ 0,055$\n",
        "\n",
        "\n",
        "Y la función de costos, que será la de optimización, se plantea como:\n",
        "\n",
        "> MIN: $Z = 2.A + 2,5.B + 1,5.C + 2.D$"
      ]
    },
    {
      "cell_type": "code",
      "execution_count": 3,
      "metadata": {
        "colab": {
          "base_uri": "https://localhost:8080/"
        },
        "id": "W8ev9q_ADbcQ",
        "outputId": "fe512bc6-a007-46fb-bb1a-8873c78fde0e"
      },
      "outputs": [
        {
          "name": "stdout",
          "output_type": "stream",
          "text": [
            "Status: Optimal\n",
            "Costos mínimos = $ 1.61\n",
            "Kilogramos de A = 0.41\n",
            "Kilogramos de B = 0.0\n",
            "Kilogramos de C = 0.53\n",
            "Kilogramos de D = 0.0\n"
          ]
        }
      ],
      "source": [
        "# Importar la biblioteca PuLP\n",
        "import pulp\n",
        "\n",
        "# Crear el problema de maximización\n",
        "prob = pulp.LpProblem('Minimizar costos', pulp.LpMinimize)\n",
        "\n",
        "# Definir las variables de decisión\n",
        "A= pulp.LpVariable('A', lowBound=0)\n",
        "B= pulp.LpVariable('B', lowBound=0)\n",
        "C= pulp.LpVariable('C', lowBound=0)\n",
        "D= pulp.LpVariable('D', lowBound=0)\n",
        "\n",
        "# Definir la función objetivo\n",
        "prob += 2*A + 2.5*B + 1.5*C + 2*D\n",
        "\n",
        "# Definir las restricciones\n",
        "prob += 6500*A + 5800*B + 6200*C + 5900*D >= 5950\n",
        "prob += 6500*A + 5800*B + 6200*C + 5900*D <= 6050\n",
        "prob += 0.2*A + 0.35*B + 0.15*C + 0.11*D >= 0.1\n",
        "prob += 0.2*A + 0.35*B + 0.15*C + 0.11*D <= 0.3\n",
        "prob += 0.05*A + 0.015*B + 0.065*C + 0.1*D >= 0.045\n",
        "prob += 0.05*A + 0.015*B + 0.065*C + 0.1*D <= 0.055\n",
        "\n",
        "# Resolver el problema\n",
        "prob.solve()\n",
        "\n",
        "# Imprimir el resultado\n",
        "print('Status:', pulp.LpStatus[prob.status])\n",
        "print('Costos mínimos = $', round(pulp.value(prob.objective), 2))\n",
        "print('Kilogramos de A =', round(pulp.value(A), 2))\n",
        "print('Kilogramos de B =', round(pulp.value(B), 2))\n",
        "print('Kilogramos de C =', round(pulp.value(C), 2))\n",
        "print('Kilogramos de D =', round(pulp.value(D), 2))"
      ]
    },
    {
      "cell_type": "markdown",
      "metadata": {
        "id": "HhVYfx9nKJUo"
      },
      "source": [
        "Por lo que finalmente obtenemos una aleación de A y C a un costo de $1.61"
      ]
    },
    {
      "cell_type": "markdown",
      "metadata": {
        "id": "uGQ77sxHKPi3"
      },
      "source": [
        "\n",
        "\n",
        "---\n",
        "\n"
      ]
    },
    {
      "cell_type": "markdown",
      "metadata": {
        "id": "kBQKjOlaKQcW"
      },
      "source": [
        "## Ejercicio 2"
      ]
    },
    {
      "cell_type": "markdown",
      "metadata": {
        "id": "GDECuLmVKp_A"
      },
      "source": [
        "Se tienen tres licores de diferentes graduaciones A, B y C. Mezclando los tres, de acuerdo a sus fórmulas, se obtienen whiskies Escocés (E), Kilt (K) y Tartan (T). Es decir, que la composición de cada whisky se dara con la fórmula:\n",
        "\n",
        "$I = Ai + Bi + Ci$\n",
        "\n",
        "dado que I puede ser igual a E, K o T; y además:\n",
        "\n",
        "$J = Je + Jk + Jt$\n",
        "\n",
        "siendo J igual a A, B o C."
      ]
    },
    {
      "cell_type": "markdown",
      "metadata": {
        "id": "TYOpMXDXiDi8"
      },
      "source": [
        "**Restricciones:**\n",
        "\n",
        "> $Ae - 0,6.E ≥ 0$\n",
        "\n",
        "> $Ce  -0,2.E ≤ 0$\n",
        "\n",
        "> $Ak - 0,15.K ≥ 0$\n",
        "\n",
        "> $Ck - 0,6.K ≤ 0$\n",
        "\n",
        "> $Ct - 0,5.T ≤ 0$\n",
        "\n",
        "> $Ae + Ak + At ≤ 2000$\n",
        "\n",
        "> $Be + Bk + Bt ≤ 2500$\n",
        "\n",
        "> $Ce + Ck + Ct ≤ 1200$\n",
        "\n",
        "Por lo tanto resulto tener 15 variables, 4 por cada licor y 1 por cada whisky"
      ]
    },
    {
      "cell_type": "markdown",
      "metadata": {
        "id": "UvBPESRkkpZb"
      },
      "source": [
        "Se desea definir la **composición de cada marca para maximizar el beneficio**, que dependerá de los precios de venta de los whiskies y los costos de los licores. Por lo tanto la ecuación resulta en:\n",
        "\n",
        "> $MAX : Z = 6,80.E + 5,70.K + 4,50.T - 7.A - 5.B - 4.C$"
      ]
    },
    {
      "cell_type": "code",
      "execution_count": null,
      "metadata": {
        "colab": {
          "base_uri": "https://localhost:8080/"
        },
        "id": "Gu-GZUicvApr",
        "outputId": "1f94d290-1ee4-4b66-b505-eec07944c07b"
      },
      "outputs": [
        {
          "name": "stdout",
          "output_type": "stream",
          "text": [
            "Beneficio = 3495.0 $\n",
            "Se producirán 2741.9 litros de Escocés compuesto por 1645.0 litros de A, 548.0 litros de B y 548.0 litros de C\n",
            "Se producirán 2365.71 litros de Kilt compuesto por 355.0 litros de A, 1655.0 litros de B y 355.0 litros de C\n",
            "Se producirán 592.38 litros de Tartan compuesto por 0.0 litros de A, 296.0 litros de B y 296.0 litros de C\n"
          ]
        }
      ],
      "source": [
        "import pulp as pl\n",
        "\n",
        "prob = pl.LpProblem('BeneficioMáximo', pl.LpMaximize)\n",
        "\n",
        "# Variables decisión\n",
        "AE = pl.LpVariable('AE', lowBound=0)\n",
        "AK = pl.LpVariable('AK', lowBound=0)\n",
        "AT = pl.LpVariable('AT', lowBound=0)\n",
        "A = pl.LpVariable('A', lowBound=0)\n",
        "\n",
        "BE = pl.LpVariable('BE', lowBound=0)\n",
        "BK = pl.LpVariable('BK', lowBound=0)\n",
        "BT = pl.LpVariable('BT', lowBound=0)\n",
        "B = pl.LpVariable('B', lowBound=0)\n",
        "\n",
        "CE = pl.LpVariable('CE', lowBound=0)\n",
        "CK = pl.LpVariable('CK', lowBound=0)\n",
        "CT = pl.LpVariable('CT', lowBound=0)\n",
        "C = pl.LpVariable('C', lowBound=0)\n",
        "\n",
        "E = pl.LpVariable('E', lowBound=0)\n",
        "K = pl.LpVariable('K', lowBound=0)\n",
        "T = pl.LpVariable('T', lowBound=0)\n",
        "\n",
        "# Función objetivo\n",
        "prob += 6.8*E + 5.7*K + 4.5*T - 7*A - 5*B - 4*C\n",
        "\n",
        "# Restricciones\n",
        "prob += AE - 0.6 * E >= 0\n",
        "prob += CE - 0.2 * E <= 0\n",
        "prob += AK - 0.15 * K >= 0\n",
        "prob += CK - 0.6 * T <= 0\n",
        "prob += CT - 0.5 * T <= 0\n",
        "prob += AE + AK + AT - A == 0\n",
        "prob += BE + BK + BT - B == 0\n",
        "prob += CE + CK + CT - C == 0\n",
        "prob += AE + BE + CE - E == 0\n",
        "prob += AK + BK + CK - K == 0\n",
        "prob += AT + BT + CT - T == 0\n",
        "prob += A <= 2000\n",
        "prob += B <= 2500\n",
        "prob += C <= 1200\n",
        "\n",
        "# Resolver el problema\n",
        "prob.solve()\n",
        "\n",
        "# Resultados\n",
        "print('Beneficio =', round(pl.value(prob.objective), 0), '$')\n",
        "\n",
        "if round(pl.value(E), 0):\n",
        "  print('Se producirán', round(pl.value(E), 2), \n",
        "        'litros de Escocés compuesto por', round(pl.value(AE), 0), \n",
        "        'litros de A,', round(pl.value(BE), 0), 'litros de B y', \n",
        "        round(pl.value(CE), 0), 'litros de C')\n",
        "else:\n",
        "  print('No se producirá whisky Escocés')\n",
        "\n",
        "if round(pl.value(K), 0) > 0.0:\n",
        "  print('Se producirán', round(pl.value(K), 2), 'litros de Kilt compuesto por', \n",
        "        round(pl.value(AK), 0), 'litros de A,', round(pl.value(BK), 0), \n",
        "        'litros de B y', round(pl.value(CK), 0), 'litros de C')\n",
        "else:\n",
        "  print('No se producirá whisky Kilt')\n",
        "\n",
        "if round(pl.value(T), 0):\n",
        "  print('Se producirán', round(pl.value(T), 2), \n",
        "        'litros de Tartan compuesto por', round(pl.value(AT), 0), \n",
        "        'litros de A,', round(pl.value(BT), 0), 'litros de B y', \n",
        "        round(pl.value(CT), 0), 'litros de C')\n",
        "else:\n",
        "  print('No se producirá whisky Tartán')"
      ]
    },
    {
      "cell_type": "markdown",
      "metadata": {
        "id": "dcgUOfH58cEu"
      },
      "source": [
        "\n",
        "\n",
        "---\n",
        "\n"
      ]
    },
    {
      "cell_type": "markdown",
      "metadata": {
        "id": "fOsZ4TdKBu7-"
      },
      "source": [
        "## Ejercicio 3"
      ]
    },
    {
      "cell_type": "markdown",
      "metadata": {
        "id": "7qYWk_X8ByDm"
      },
      "source": [
        "Se tienen 7 tipos de píldoras compuestas, en diferentes proporciones, por las mismas 3 vitaminas\n",
        "\n",
        "|   |P1|P2|P3|P4|P5|P6|P7|\n",
        "|:-:|--|--|--|--|--|--|--|\n",
        "|V1|5|0|2|0|3|1|2|\n",
        "|V2|3|1|5|0|2|0|1|\n",
        "|V3|1|0|3|1|2|0|6|\n",
        "|$/u|4|1|5|0.6|3.5|0.7|4|\n",
        "\n",
        "Se desea una combinación de píldoras que proporcionen al **menor costo posible** una cierta cantidad de unidades por vitamina:\n",
        "- $V1 = 100$\n",
        "- $V2 = 80$\n",
        "- $120 ≤ V3 ≤ 160$"
      ]
    },
    {
      "cell_type": "markdown",
      "metadata": {
        "id": "Gn6IGX4AC11K"
      },
      "source": [
        "**Restricciones:**\n",
        "\n",
        "> $5.P1 + 0.P2 + 2.P3 + 0.P4 + 3.P5 + 1.P6 + 2.P7 = 100$\n",
        "\n",
        "> $3.P1 + 1.P2 + 5.P3 + 0.P4 + 2.P5 + 0.P6 + 1.P7 = 80$\n",
        "\n",
        "> $1.P1 + 0.P2 + 3.P3 + 1.P4 + 2.P5 + 0.P6 + 6.P7 > 120$\n",
        "\n",
        "> $1.P1 + 0.P2 + 3.P3 + 1.P4 + 2.P5 + 0.P6 + 6.P7 < 160$"
      ]
    },
    {
      "cell_type": "markdown",
      "metadata": {
        "id": "1f2QAXdqEmpr"
      },
      "source": [
        "**Función objetivo**\n",
        "\n",
        "> MIN: $Z = 4.P1 + 1.P2 + 5.P3 + 0,6.P4 + 3,5.P5 + 0,7.P6 + 4.P7$\n",
        "\n"
      ]
    },
    {
      "cell_type": "code",
      "execution_count": null,
      "metadata": {
        "colab": {
          "base_uri": "https://localhost:8080/"
        },
        "id": "JSLZ8KlJFCVM",
        "outputId": "4b22116a-9266-4124-c094-8cf813997ad0"
      },
      "outputs": [
        {
          "name": "stdout",
          "output_type": "stream",
          "text": [
            "Costo: 136.7 $\n",
            "P1: 11.56 unidades\n",
            "P2: 0.0 unidades\n",
            "P3: 6.06 unidades\n",
            "P4: 0.0 unidades\n",
            "P5: 0.0 unidades\n",
            "P6: 0.0 unidades\n",
            "P7: 15.05 unidades\n"
          ]
        }
      ],
      "source": [
        "import pulp as pl\n",
        "\n",
        "prob = pl.LpProblem('CostoMínimo', pl.LpMinimize)\n",
        "\n",
        "# Variables decisión\n",
        "p1 = pl.LpVariable('P1', lowBound=0)\n",
        "p2 = pl.LpVariable('P2', lowBound=0)\n",
        "p3 = pl.LpVariable('P3', lowBound=0)\n",
        "p4 = pl.LpVariable('P4', lowBound=0)\n",
        "p5 = pl.LpVariable('P5', lowBound=0)\n",
        "p6 = pl.LpVariable('P6', lowBound=0)\n",
        "p7 = pl.LpVariable('P7', lowBound=0)\n",
        "\n",
        "# Función objetivo\n",
        "prob += 4*p1 + 1*p2 + 5*p3 + 0.6*p4 + 3.5*p5 + 0.7*p6 + 4*p7\n",
        "\n",
        "# Restricciones\n",
        "prob += 5*p1 + 2*p3 + 3*p5 + p6 + 2*p7 == 100\n",
        "prob += 3*p1 + p2 + 5*p3 + 2*p5 + p7 == 80\n",
        "prob += p1 + 3*p3 + p4 + 2*p5 + 6*p7 >= 120\n",
        "prob += p1 + 3*p3 + p4 + 2*p5 + 6*p7 <= 160\n",
        "\n",
        "\n",
        "# Resolver el problema\n",
        "prob.solve()\n",
        "\n",
        "# Imprimir resultados\n",
        "print('Costo:', round(pl.value(prob.objective), 2), '$')\n",
        "print('P1:', round(pl.value(p1), 2), 'unidades')\n",
        "print('P2:', round(pl.value(p2), 2), 'unidades')\n",
        "print('P3:', round(pl.value(p3), 2), 'unidades')\n",
        "print('P4:', round(pl.value(p4), 2), 'unidades')\n",
        "print('P5:', round(pl.value(p5), 2), 'unidades')\n",
        "print('P6:', round(pl.value(p6), 2), 'unidades')\n",
        "print('P7:', round(pl.value(p7), 2), 'unidades')"
      ]
    },
    {
      "cell_type": "markdown",
      "metadata": {
        "id": "RDlpJYd4KQQD"
      },
      "source": [
        "\n",
        "\n",
        "---\n",
        "\n"
      ]
    },
    {
      "cell_type": "markdown",
      "metadata": {
        "id": "B9zbG8raKQ2D"
      },
      "source": [
        "## Ejercicio 4"
      ]
    },
    {
      "cell_type": "markdown",
      "metadata": {
        "id": "L_K1iZCjKUFH"
      },
      "source": [
        "Un taller de tejido de pullovers elabora 3 tipos de prendas (A, B y C), posee 2 máquinas para hacerlo (M1 y M2) y usa materia prima de dos calidad distintas (M y N).\n",
        "\n",
        "El taller trabaja 2 turnos de 8 hs. de lunes a viernes; pero no es necesario que esa semana se terminen todos los pullovers que se empiezan. \n",
        "\n",
        "A final de semana se deben entregar 10 unidades de B sí o sí a un cliente.\n",
        "\n",
        "|Prenda|M1 (h/u)|M2(h/u)|M(kg/u)|N(kg/u)|Beneficio ($/u)|\n",
        "|:----:|--------|-------|-------|-------|---------------|\n",
        "|**A**|5       |-      |1.6    | -     | 1000|\n",
        "|**B**|6       |4      |-      |1.8    | 1500|\n",
        "|**C**|-       |4      |1.2    |-      | 1800|\n",
        "|**Disp. sem.**| 80|80|20|36||\n",
        "\n",
        "Se busca **maximizar el beneficio**."
      ]
    },
    {
      "cell_type": "markdown",
      "metadata": {
        "id": "7VG_E6oqNGbo"
      },
      "source": [
        "**Restricciones:**\n",
        "\n",
        "> $5.A + 6.B1 ≤ 80$\n",
        "\n",
        "> $4.B2 + 4.C ≤ 80$\n",
        "\n",
        "> $1,6.A + 1,2.C ≤ 20$\n",
        "\n",
        "> $10 ≤ B ≤ 36/1,6 = 20$\n",
        "\n",
        "Tuve en cuenta que las unidades de B van a ser las que salgan de la máquina 1 (B1) y las de la 2 (B2)"
      ]
    },
    {
      "cell_type": "markdown",
      "metadata": {
        "id": "ZN4PAYYnN-nV"
      },
      "source": [
        "**Función objetivo**\n",
        "\n",
        "> MÁX: $Z = 1000.A + 1500.B + 1800.C$"
      ]
    },
    {
      "cell_type": "code",
      "execution_count": null,
      "metadata": {
        "colab": {
          "base_uri": "https://localhost:8080/"
        },
        "id": "VIuzQTh3OMAJ",
        "outputId": "f63e4160-0201-4f25-b5db-1d8342ce131f"
      },
      "outputs": [
        {
          "name": "stdout",
          "output_type": "stream",
          "text": [
            "Beneficio: 55000.0 $\n",
            "A: 0.0 unidades\n",
            "B: 16.67 unidades\n",
            "C: 16.67 unidades\n"
          ]
        }
      ],
      "source": [
        "import pulp as pl\n",
        "\n",
        "prob = pl.LpProblem('BeneficioMáximo', pl.LpMaximize)\n",
        "\n",
        "# Variables decisión\n",
        "a = pl.LpVariable('A', lowBound=0)\n",
        "b = pl.LpVariable('B', lowBound=0)\n",
        "b1 = pl.LpVariable('B1', lowBound=0)\n",
        "b2 = pl.LpVariable('B2', lowBound=0)\n",
        "c = pl.LpVariable('C', lowBound=0)\n",
        "\n",
        "# Función objetivo\n",
        "prob += 1000*a + 1500*b + 1800*c\n",
        "\n",
        "# Restricciones\n",
        "prob += 5*a + 6*b1 <= 80\n",
        "prob += 4*b2 + 4*c <= 80\n",
        "prob += 1.6*a + 1.2*c <= 20\n",
        "prob += b - b1 - b2 == 0\n",
        "prob += b >= 10\n",
        "prob += b <= 20\n",
        "\n",
        "# Resolver el problema\n",
        "prob.solve()\n",
        "\n",
        "# Imprimir resultados\n",
        "print('Beneficio:', round(pl.value(prob.objective), 2), '$')\n",
        "print('A:', round(pl.value(a), 2), 'unidades')\n",
        "print('B:', round(pl.value(b), 2), 'unidades')\n",
        "print('C:', round(pl.value(c), 2), 'unidades')"
      ]
    },
    {
      "cell_type": "markdown",
      "metadata": {
        "id": "Iu5IQd_zQRtn"
      },
      "source": [
        "\n",
        "\n",
        "---\n",
        "\n"
      ]
    },
    {
      "cell_type": "markdown",
      "metadata": {
        "id": "kdYhkyrWQSqU"
      },
      "source": [
        "## Ejercicio 5"
      ]
    },
    {
      "cell_type": "markdown",
      "metadata": {
        "id": "xrwGW4uRSAwC"
      },
      "source": [
        "Una fábrica automotriz produce sus propios tableros de tipo A, B, C y D. El proceso de fabricación es el siguiente: \n",
        "\n",
        "![image.png](data:image/png;base64,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)"
      ]
    },
    {
      "cell_type": "markdown",
      "metadata": {
        "id": "RmysIAEVScof"
      },
      "source": [
        "En la tabla siguiente se indican los tiempos del proceso en horas/unidad.\n",
        "\n",
        "|Tablero|Estampado|Armado|Cableado|Ajuste|Calidad (P)|Calidad (C)|\n",
        "|:-----:|---------|------|--------|------|-----------|-----------|\n",
        "|**A**|0.05|0.10|0.20|0.08|0.02|0.03|\n",
        "|**B**|0.05|0.12|0.25|0.10|0.03|0.05|\n",
        "|**C**|0.05|0.14|0.30|0.06|0.03|0.04|\n",
        "|**D**|0.05|0.18|0.25|0.10|0.03|0.04|\n",
        "|**Disp.**|1200|3600|5000|3000|* |*|\n",
        "\n",
        "(*) Calidad en total tiene 3000 hs. disponibles.\n",
        "\n",
        "Un control estadístico de calidad indico que el 90% de los tableros producidos por la fábrica son aprobados y el resto vuelve a Ajuste; de los tableros comprados, el 80% se aprueba y el resto vuelve al proveedor. Para los reajustados la probabilidad de volver a Ajuste es la misma.  \n",
        "\n",
        "Para cada tablero se detalla además:\n",
        "\n",
        "|Tablero|Producción|Compra|Necesarias|\n",
        "|:-----:|----------|------|--------|\n",
        "|A|500|800|4000|\n",
        "|B|600|750|3000|\n",
        "|C|1200|1800|8000|\n",
        "|D|1000|800|5000|\n",
        "\n",
        "Se quiere **minimizar el costo** indicando la cantidad de unidades a producir y a comprar"
      ]
    },
    {
      "cell_type": "markdown",
      "metadata": {
        "id": "N1OEYu6BDaEG"
      },
      "source": [
        "**Restricciones:**\n",
        "\n",
        "> $AP + AC = 4000$\n",
        "\n",
        "> $BP + BC = 3000$\n",
        "\n",
        "> $CP + CC = 8000$\n",
        "\n",
        "> $DP + DC = 5000$\n",
        "\n",
        "> EST: $AP + BP + CP + DP ≤ 1200/0,05 <= 24000$\n",
        "\n",
        "> ARM: $0,1.AP + 0,12.BP + 0,14.CP + 0,18.DP ≤ 3600$\n",
        "\n",
        "> CABL: $0,2.AP + 0,25.BP + 0,3.CP + 0,25.DP ≤ 5000$\n",
        "\n",
        "> AJUS: $0,08.AP + 0,1.BP + 0,06.CP + 0,1.DP ≤ 3000/1,1 = 2727,273$\n",
        "\n",
        "> CAL: $0,022.AP + 0,0375.AC + 0,033.BP + 0,0625.BC + 0,033.CP + 0,05.CC + 0,033.DP + 0,05.DC ≤ 3000$\n",
        "\n",
        "En la última restricción, dividí los tiempos por unidad por 0,9 a las unidades producidas y por 0,8 a las compradas; esto es porque puede volver a pasar que del 10% reprocesado se vuelva a reprocesar el 10%."
      ]
    },
    {
      "cell_type": "markdown",
      "metadata": {
        "id": "f7jIgCnPG0Ob"
      },
      "source": [
        "**Función objetivo:**\n",
        "\n",
        "> MIN: $Z = 500.AP + 800.AC + 600.BP + 750.BC + 1200.CP + 1800.CC + 1000.DP + 800.DC$\n",
        "\n"
      ]
    },
    {
      "cell_type": "code",
      "execution_count": null,
      "metadata": {
        "colab": {
          "base_uri": "https://localhost:8080/"
        },
        "id": "D12lgK8eIhgv",
        "outputId": "ffb2f5af-20b6-48d5-b17c-2830aa97e4f0"
      },
      "outputs": [
        {
          "name": "stdout",
          "output_type": "stream",
          "text": [
            "Costo: 17400000.0 $\n",
            "Tableros A: 4000.0 unidades producidas y 0.0 unidades compradas\n",
            "Tableros B: 3000.0 unidades producidas y 0.0 unidades compradas\n",
            "Tableros C: 8000.0 unidades producidas y 0.0 unidades compradas\n",
            "Tableros D: 0.0 unidades producidas y 5000.0 unidades compradas\n"
          ]
        }
      ],
      "source": [
        "import pulp as pl\n",
        "\n",
        "prob = pl.LpProblem('CostoMínimo', pl.LpMinimize)\n",
        "\n",
        "# Variables decisión\n",
        "ap = pl.LpVariable('AP', lowBound=0)\n",
        "ac = pl.LpVariable('AC', lowBound=0)\n",
        "bp = pl.LpVariable('BP', lowBound=0)\n",
        "bc = pl.LpVariable('BC', lowBound=0)\n",
        "cp = pl.LpVariable('CP', lowBound=0)\n",
        "cc = pl.LpVariable('CC', lowBound=0)\n",
        "dp = pl.LpVariable('DP', lowBound=0)\n",
        "dc = pl.LpVariable('DC', lowBound=0)\n",
        "\n",
        "\n",
        "# Función objetivo\n",
        "prob += 500*ap + 800*ac + 600*bp + 750*bc + 1200*cp + 1800*cc + 1000*dp + 800*dc\n",
        "\n",
        "# Restricciones\n",
        "prob += ap + ac == 4000\n",
        "prob += bp + bc == 3000\n",
        "prob += cp + cc == 8000\n",
        "prob += dp + dc == 5000\n",
        "prob += ap + bp + cp + dp <= 24000\n",
        "prob += 0.1*ap + 0.12*bp + 0.14*cp + 0.18*dp <= 3600\n",
        "prob += 0.2*ap + 0.25*bp + 0.3*cp + 0.25*dp <= 5000\n",
        "prob += 0.08*ap + 0.1*bp + 0.06*cp + 0.1*dp <= 2727.273\n",
        "prob += 0.022*ap + 0.033*bp + 0.033*cp + 0.033*dp + 0.0375*ac + 0.0625*bc + 0.05*cc + 0.05*dc <= 3000\n",
        "\n",
        "\n",
        "# Resolver el problema\n",
        "prob.solve()\n",
        "\n",
        "# Imprimir resultados\n",
        "print('Costo:', round(pl.value(prob.objective), 2), '$')\n",
        "print('Tableros A:', round(pl.value(ap), 0), 'unidades producidas y', \n",
        "      round(pl.value(ac), 0), 'unidades compradas')\n",
        "print('Tableros B:', round(pl.value(bp), 0), 'unidades producidas y', \n",
        "      round(pl.value(bc), 0), 'unidades compradas')\n",
        "print('Tableros C:', round(pl.value(cp), 0), 'unidades producidas y', \n",
        "      round(pl.value(cc), 0), 'unidades compradas')\n",
        "print('Tableros D:', round(pl.value(dp), 0), 'unidades producidas y', \n",
        "      round(pl.value(dc), 0), 'unidades compradas')"
      ]
    },
    {
      "attachments": {},
      "cell_type": "markdown",
      "metadata": {},
      "source": [
        "---"
      ]
    },
    {
      "cell_type": "markdown",
      "metadata": {},
      "source": [
        "## Ejercicio 6"
      ]
    },
    {
      "attachments": {},
      "cell_type": "markdown",
      "metadata": {},
      "source": [
        "Cuatro fábricas envían sus productos a cuatro almacenes. \n",
        "\n",
        "**Tabla 1:** capacidad (en tn) y costos de producción de cada fábrica\n",
        "|Fábrica|Capacidad|Costo ($/u)|\n",
        "|:-----:|:-------:|:---------:|\n",
        "|1      |140      |60         |\n",
        "|2      |260      |72         |\n",
        "|3      |360      |48         |\n",
        "|4      |220      |60         |\n",
        "\n",
        "**Tabla 2:** costos de transporte ($/u) de cada fábrica a cada almacén y requerimientos (en tn)\n",
        "|Fábrica|Alm. A|Alm. B|Alm. C|Alm. D|\n",
        "|:-----:|:----:|:----:|:----:|:----:|\n",
        "|1      |28    |40    |36    |38    |\n",
        "|2      |18    |28    |24    |30    |\n",
        "|3      |42    |54    |52    |54    |\n",
        "|4      |36    |48    |40    |46    |\n",
        "|Requerimientos|180|280|150|200|\n",
        "\n",
        "Se desea establecer un programa de distribución que **minimice el costo total.**"
      ]
    },
    {
      "attachments": {},
      "cell_type": "markdown",
      "metadata": {},
      "source": [
        "Defino de las variables siendo **i = 1,2,3,4** y **j = A,B,C,D**\n",
        "* $F_i$ = \"Cantidad de unidades a producir en la fábrica i\"\n",
        "* $x_{ij}$ = \"Cantidad de unidades a transportar desde la fábrica i hasta el almacén j\"\n",
        "* $A_j$ = \"Cantidad de unidades a entregar al almacén j\""
      ]
    },
    {
      "cell_type": "code",
      "execution_count": 2,
      "metadata": {},
      "outputs": [
        {
          "name": "stdout",
          "output_type": "stream",
          "text": [
            "Costo: 77480.0 $\n",
            "Fábrica 1: producirá 140.0 unidades y le entregará 0.0 unidades al almacén A, 0.0 al B, 0.0 al C y 140.0 al D.\n",
            "Fábrica 2: producirá 260.0 unidades y le entregará 0.0 unidades al almacén A, 160.0 al B, 100.0 al C y 0.0 al D.\n",
            "Fábrica 3: producirá 360.0 unidades y le entregará 180.0 unidades al almacén A, 120.0 al B, 0.0 al C y 60.0 al D.\n",
            "Fábrica 4: producirá 50.0 unidades y le entregará 0.0 unidades al almacén A, 0.0 al B, 50.0 al C y 0.0 al D.\n"
          ]
        }
      ],
      "source": [
        "import pulp as pl\n",
        "\n",
        "prob = pl.LpProblem('CostoMínimo', pl.LpMinimize)\n",
        "\n",
        "\n",
        "# Variables decisión\n",
        "f1 = pl.LpVariable('F1', lowBound=0)\n",
        "f2 = pl.LpVariable('F2', lowBound=0)\n",
        "f3 = pl.LpVariable('F3', lowBound=0)\n",
        "f4 = pl.LpVariable('F4', lowBound=0)\n",
        "\n",
        "x1a = pl.LpVariable('x1a', lowBound=0)\n",
        "x1b = pl.LpVariable('x1b', lowBound=0)\n",
        "x1c = pl.LpVariable('x1c', lowBound=0)\n",
        "x1d = pl.LpVariable('x1d', lowBound=0)\n",
        "x2a = pl.LpVariable('x2a', lowBound=0)\n",
        "x2b = pl.LpVariable('x2b', lowBound=0)\n",
        "x2c = pl.LpVariable('x2c', lowBound=0)\n",
        "x2d = pl.LpVariable('x2d', lowBound=0)\n",
        "x3a = pl.LpVariable('x3a', lowBound=0)\n",
        "x3b = pl.LpVariable('x3b', lowBound=0)\n",
        "x3c = pl.LpVariable('x3c', lowBound=0)\n",
        "x3d = pl.LpVariable('x3d', lowBound=0)\n",
        "x4a = pl.LpVariable('x4a', lowBound=0)\n",
        "x4b = pl.LpVariable('x4b', lowBound=0)\n",
        "x4c = pl.LpVariable('x4c', lowBound=0)\n",
        "x4d = pl.LpVariable('x4d', lowBound=0)\n",
        "\n",
        "aa = pl.LpVariable('Aa', lowBound=0)\n",
        "ab = pl.LpVariable('Ab', lowBound=0)\n",
        "ac = pl.LpVariable('Ac', lowBound=0)\n",
        "ad = pl.LpVariable('Ad', lowBound=0)\n",
        "\n",
        "\n",
        "# Función objetivo\n",
        "prob += 60*f1+72*f2+48*f3+60*f4+28*x1a+40*x1b+36*x1c+28*x1d+18*x2a+28*x2b+24*x2c+30*x2d+42*x3a+54*x3b+52*x3c+54*x3d+36*x4a+48*x4b+40*x4c+46*x4d\n",
        "\n",
        "\n",
        "# Restricciones\n",
        "## Balance de fábricas\n",
        "prob += x1a + x1b + x1c + x1d - f1 == 0\n",
        "prob += x2a + x2b + x2c + x2d - f2 == 0\n",
        "prob += x3a + x3b + x3c + x3d - f3 == 0\n",
        "prob += x4a + x4b + x4c + x4d - f4 == 0\n",
        "\n",
        "## Capacidad de fábricas\n",
        "prob += f1 <= 140\n",
        "prob += f2 <= 260\n",
        "prob += f3 <= 360\n",
        "prob += f4 <= 220\n",
        "\n",
        "## Balance de almacenes\n",
        "prob += x1a + x2a + x3a + x4a - aa == 0\n",
        "prob += x1b + x2b + x3b + x4b - ab == 0\n",
        "prob += x1c + x2c + x3c + x4c - ac == 0\n",
        "prob += x1d + x2d + x3d + x4d - ad == 0\n",
        "\n",
        "## Requerimientos de almacenes\n",
        "prob += aa == 180\n",
        "prob += ab == 280\n",
        "prob += ac == 150\n",
        "prob += ad == 200\n",
        "\n",
        "\n",
        "# Resolver el problema\n",
        "prob.solve()\n",
        "\n",
        "#Resultados\n",
        "print('Costo:', round(pl.value(prob.objective), 2), '$')\n",
        "print('Fábrica 1: producirá', pl.value(f1), 'unidades y le entregará', pl.value(x1a), 'unidades al almacén A,',\n",
        "    pl.value(x1b), 'al B,', pl.value(x1c), 'al C y', pl.value(x1d), 'al D.')\n",
        "print('Fábrica 2: producirá', pl.value(f2), 'unidades y le entregará', pl.value(x2a), 'unidades al almacén A,',\n",
        "    pl.value(x2b), 'al B,', pl.value(x2c), 'al C y', pl.value(x2d), 'al D.')\n",
        "print('Fábrica 3: producirá', pl.value(f3), 'unidades y le entregará', pl.value(x3a), 'unidades al almacén A,',\n",
        "    pl.value(x3b), 'al B,', pl.value(x3c), 'al C y', pl.value(x3d), 'al D.')\n",
        "print('Fábrica 4: producirá', pl.value(f4), 'unidades y le entregará', pl.value(x4a), 'unidades al almacén A,',\n",
        "    pl.value(x4b), 'al B,', pl.value(x4c), 'al C y', pl.value(x4d), 'al D.')\n"
      ]
    },
    {
      "attachments": {},
      "cell_type": "markdown",
      "metadata": {},
      "source": [
        "---"
      ]
    },
    {
      "attachments": {},
      "cell_type": "markdown",
      "metadata": {},
      "source": [
        "## Ejercicio 9"
      ]
    },
    {
      "attachments": {},
      "cell_type": "markdown",
      "metadata": {},
      "source": [
        "Un avión tiene tres compartimientos para almacenar, los cuales pueden completarse hasta su capacidad límite pero el peso de la carga en los respectivos compartimientos debe ser proporcional a su capacidad.\n",
        "\n",
        "**Tabla 1:** capacidad de los compartimientos\n",
        "\n",
        "|Compartimiento|Peso (tn)|Espacio ($pies^3$)|\n",
        "|:------------:|:-------:|:----------------:|\n",
        "| Delantero (D)| 12      | 7000             |\n",
        "| Central (C)  | 18      | 9000             |\n",
        "| Trasero (T)  | 10      | 5000             |"
      ]
    },
    {
      "attachments": {},
      "cell_type": "markdown",
      "metadata": {},
      "source": [
        "**Tabla 2:** ofertas para 4 tipos de cargas por espacio de sobra\n",
        "\n",
        "|Carga|Peso (tn)|Volumen (${pies^3}/tn$)|Ganancia ($/tn)|\n",
        "|:---:|:-------:|:---------------------:|:-------------:|\n",
        "|1|20|500|320|\n",
        "|2|16|700|400|\n",
        "|3|25|600|360|\n",
        "|4|13|400|290|\n",
        "\n",
        "Se puede aceptar cualquier fracción de estas cargas. Se quiere determinar qué cantidad de cada carga debe aceptarse y cómo distriburla en los compartimientos para **maximizar la ganancia** del vuelo. "
      ]
    },
    {
      "attachments": {},
      "cell_type": "markdown",
      "metadata": {},
      "source": [
        "Defino las variables del modelo siendo **i = 1,2,3,4** y **j = D,C,T**\n",
        "\n",
        "* $P_j$ = Peso almacenado en el compartimiento j\n",
        "* $P_i$ = Peso de la carga tipo i\n",
        "* $P_{ij}$ = Peso de la carga i almacenada en el compartimiento j\n",
        "* $V_j$ = Volumen almacenado en el compartimiento j\n",
        "* $V_{ij}$ = Volumen de la carga i almacenada en el compartimiento j"
      ]
    },
    {
      "cell_type": "code",
      "execution_count": 6,
      "metadata": {},
      "outputs": [
        {
          "name": "stdout",
          "output_type": "stream",
          "text": [
            "Ganancia: 13330.0 $\n",
            "Carga 1: 15.5 tn\n",
            "Se enviarán 8.5 tn al Central, 0.0 tn al Trasero y 7.0 tn al Delantero\n",
            "Carga 2: 11.5 tn\n",
            "Se enviarán 3.2 tn al Central, 3.3 tn al Trasero y 5.0 tn al Delantero\n",
            "Carga 3: 0.0 tn\n",
            "Carga 4: 13.0 tn\n",
            "Se enviarán 6.3 tn al Central, 6.7 tn al Trasero y 0.0 tn al Delantero\n",
            "Compartimiento delantero: 12.0 tn\n",
            "Compartimiento central: 18.0 tn\n",
            "Compartimiento trasero: 10.0 tn\n"
          ]
        }
      ],
      "source": [
        "import pulp as pl\n",
        "\n",
        "prob = pl.LpProblem('BeneficioMáximo', pl.LpMaximize)\n",
        "\n",
        "\n",
        "# Variables decisión\n",
        "p = pl.LpVariable('P', lowBound=0)\n",
        "pd = pl.LpVariable('PD', lowBound=0)\n",
        "pc = pl.LpVariable('PC', lowBound=0)\n",
        "pt = pl.LpVariable('PT', lowBound=0)\n",
        "\n",
        "p1 = pl.LpVariable('P1', lowBound=0)\n",
        "p2 = pl.LpVariable('P2', lowBound=0)\n",
        "p3 = pl.LpVariable('P3', lowBound=0)\n",
        "p4 = pl.LpVariable('P4', lowBound=0)\n",
        "\n",
        "p1d = pl.LpVariable('P1D', lowBound=0)\n",
        "p1c = pl.LpVariable('P1C', lowBound=0)\n",
        "p1t = pl.LpVariable('P1T', lowBound=0)\n",
        "p2d = pl.LpVariable('P2D', lowBound=0)\n",
        "p2c = pl.LpVariable('P2C', lowBound=0)\n",
        "p2t = pl.LpVariable('P2T', lowBound=0)\n",
        "p3d = pl.LpVariable('P3D', lowBound=0)\n",
        "p3c = pl.LpVariable('P3C', lowBound=0)\n",
        "p3t = pl.LpVariable('P3T', lowBound=0)\n",
        "p4d = pl.LpVariable('P4D', lowBound=0)\n",
        "p4c = pl.LpVariable('P4C', lowBound=0)\n",
        "p4t = pl.LpVariable('P4T', lowBound=0)\n",
        "\n",
        "vc = pl.LpVariable('V1', lowBound=0)\n",
        "vd = pl.LpVariable('V2', lowBound=0)\n",
        "vt = pl.LpVariable('V3', lowBound=0)\n",
        "\n",
        "\n",
        "# Función objetivo\n",
        "prob += 320*p1 + 400*p2 + 360*p3 + 290*p4\n",
        "\n",
        "\n",
        "# Restricciones\n",
        "## Capacidad de peso por cargamento\n",
        "prob += p1 <= 20\n",
        "prob += p2 <= 16\n",
        "prob += p3 <= 25\n",
        "prob += p4 <= 13\n",
        "\n",
        "## Balanceo cargamentos\n",
        "prob += p1d + p1c + p1t - p1 == 0\n",
        "prob += p2d + p2c + p2t - p2 == 0\n",
        "prob += p3d + p3c + p3t - p3 == 0\n",
        "prob += p4d + p4c + p4t - p4 == 0\n",
        "\n",
        "## Capacidad de peso por compartimiento\n",
        "prob += pd <= 12\n",
        "prob += pc <= 18\n",
        "prob += pt <= 10\n",
        "\n",
        "## Balanceo peso de compartimientos\n",
        "prob += p1d + p2d + p3d + p4d - pd == 0\n",
        "prob += p1c + p2c + p3c + p4c - pc == 0\n",
        "prob += p1t + p2t + p3t + p4t - pt == 0\n",
        "\n",
        "## Capacidad de volumen por compartimiento\n",
        "prob += vd <= 7000\n",
        "prob += vc <= 9000\n",
        "prob += vt <= 5000\n",
        "\n",
        "## Balanceo volumen de compartimientos\n",
        "prob += 500*p1d + 700*p2d + 600*p3d + 400*p4d - vd == 0\n",
        "prob += 500*p1c + 700*p2c + 600*p3c + 400*p4c - vc == 0\n",
        "prob += 500*p1t + 700*p2t + 600*p3t + 400*p4t - vt == 0\n",
        "\n",
        "## Balanceo peso total\n",
        "prob += pd + pc + pt - p == 0\n",
        "\n",
        "\n",
        "# Resolver el problema\n",
        "prob.solve()\n",
        "\n",
        "# Resultados\n",
        "print('Ganancia:', round(pl.value(prob.objective), 2), '$')\n",
        "print('Carga 1:', pl.value(p1), 'tn')\n",
        "print('Se enviarán', pl.value(p1c), 'tn al Central,', pl.value(p1t), 'tn al Trasero y', pl.value(p1d), 'tn al Delantero')\n",
        "print('Carga 2:', pl.value(p2), 'tn')\n",
        "print('Se enviarán', round(pl.value(p2c), 1), 'tn al Central,', round(pl.value(p2t), 1), 'tn al Trasero y', pl.value(p2d), 'tn al Delantero')\n",
        "print('Carga 3:', pl.value(p3), 'tn')\n",
        "print('Carga 4:', pl.value(p4), 'tn')\n",
        "print('Se enviarán', round(pl.value(p4c), 1), 'tn al Central,', round(pl.value(p4t), 1), 'tn al Trasero y', pl.value(p4d), 'tn al Delantero')\n",
        "print('Compartimiento delantero:', pl.value(pd), 'tn')\n",
        "print('Compartimiento central:', pl.value(pc), 'tn')\n",
        "print('Compartimiento trasero:', pl.value(pt), 'tn')"
      ]
    }
  ],
  "metadata": {
    "colab": {
      "provenance": [],
      "toc_visible": true
    },
    "kernelspec": {
      "display_name": "Python 3",
      "name": "python3"
    },
    "language_info": {
      "codemirror_mode": {
        "name": "ipython",
        "version": 3
      },
      "file_extension": ".py",
      "mimetype": "text/x-python",
      "name": "python",
      "nbconvert_exporter": "python",
      "pygments_lexer": "ipython3",
      "version": "3.8.8"
    }
  },
  "nbformat": 4,
  "nbformat_minor": 0
}
