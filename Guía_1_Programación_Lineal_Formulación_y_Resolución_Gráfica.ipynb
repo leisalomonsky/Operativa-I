{
  "nbformat": 4,
  "nbformat_minor": 0,
  "metadata": {
    "colab": {
      "provenance": []
    },
    "kernelspec": {
      "name": "python3",
      "display_name": "Python 3"
    },
    "language_info": {
      "name": "python"
    }
  },
  "cells": [
    {
      "cell_type": "markdown",
      "source": [
        "## Ejercicio 1"
      ],
      "metadata": {
        "id": "vsiGvU8foTiL"
      }
    },
    {
      "cell_type": "markdown",
      "source": [
        "Se fabrican piezas de tipo A y B que pasan por un proceso de:\n",
        "\n",
        "1.   Estampado (se estampan 2 partes iguales, se usa el doble de insumos)\n",
        "2.   Soldado\n",
        "3. Pintado\n",
        "\n",
        "Los insumos de equipos para la realización de cada una de las operaciones (en segundos por pieza) son:\n",
        "\n",
        "| Op |  A  |  B  | Tiempo disp. |\n",
        "|--- |:---:|:---:|:------------:|\n",
        "| 1  |  3  |  8  |  48000       |\n",
        "| 2  | 12  |  6  |  42000       |\n",
        "| 3  | 9   |  9  |  36000       |\n",
        "\n",
        "La utilidad unitaria es de $4 para la pieza A y 3 para la pieza B. \n",
        "\n",
        "Se desea establecer el programa semanal de producción que **maximice la utilidad del taller** con respecto a las piezas consideradas. \n",
        "\n"
      ],
      "metadata": {
        "id": "c0GNnzHyoWks"
      }
    },
    {
      "cell_type": "markdown",
      "source": [
        "Planteo entonces las inecuaciones para cada proceso, llamando $a$ a las piezas de tipo A y $b$ a las de tipo B. Como en estampado se procesan 2 insumos para cada pieza final, duplico los tiempos de la operación\n",
        "\n",
        "> Estampado:  $ 6.a + 16.b ≤ 48000 $\n",
        "\n",
        "> Soldado: $ 12.a + 6.b ≤ 42000 $\n",
        "\n",
        "> Pintado: $ 9.a + 9.b ≤ 36000 $\n"
      ],
      "metadata": {
        "id": "R7Ua5QbBsyYI"
      }
    },
    {
      "cell_type": "markdown",
      "source": [
        "### Resolución gráfica"
      ],
      "metadata": {
        "id": "ErqY3GhnlUBI"
      }
    },
    {
      "cell_type": "code",
      "execution_count": null,
      "metadata": {
        "colab": {
          "base_uri": "https://localhost:8080/",
          "height": 283
        },
        "id": "b8bU6Ttin8Zx",
        "outputId": "16f0c324-f4cd-4fd1-b57d-37cff2d282c3"
      },
      "outputs": [
        {
          "output_type": "display_data",
          "data": {
            "text/plain": [
              "<Figure size 432x288 with 1 Axes>"
            ],
            "image/png": "[encoded data removed]"
          },
          "metadata": {
            "needs_background": "light"
          }
        }
      ],
      "source": [
        "import matplotlib.pyplot as plt\n",
        "\n",
        "def f1(a): #Estampado\n",
        "  return 3000 - 0.375*a\n",
        "\n",
        "def f2(a): #Soldado\n",
        "  return 7000 - 2*a\n",
        "\n",
        "def f3(a): #Pintado\n",
        "  return 4000 - a\n",
        "\n",
        "a = range(0, 8000)\n",
        "\n",
        "plt.plot(a, [f1(i) for i in a])\n",
        "plt.plot(a, [f2(i) for i in a])\n",
        "plt.plot(a, [f3(i) for i in a])\n",
        "\n",
        "plt.xlim(0, 8000)\n",
        "plt.ylim(0, 7000)\n",
        "plt.xlabel('Piezas A')\n",
        "plt.ylabel('Piezas B')\n",
        "\n",
        "#para mejorar\n",
        "plt.fill_between([0, 1600], [3000, 2400], color = 'yellow', alpha = 0.3)\n",
        "plt.fill_between([1600, 3000], [2400, 1000], color = 'yellow', alpha = 0.3)\n",
        "plt.fill_between([3000, 3500], [1000, 0], color = 'yellow', alpha = 0.3)\n",
        "\n",
        "plt.show()"
      ]
    },
    {
      "cell_type": "markdown",
      "source": [
        "Se maximiza en 3000, 1000"
      ],
      "metadata": {
        "id": "FxjitOe_ItuU"
      }
    },
    {
      "cell_type": "markdown",
      "source": [
        "### Programación lineal"
      ],
      "metadata": {
        "id": "TmgKp1eklccG"
      }
    },
    {
      "cell_type": "markdown",
      "source": [
        "Código de clase"
      ],
      "metadata": {
        "id": "Y-n_MxsHtHX8"
      }
    },
    {
      "cell_type": "code",
      "source": [
        "z_best = -1000\n",
        "a_best = 0\n",
        "b_best = 0\n",
        "for a in range (0, 8000):\n",
        "  for b in range (0, 7000):\n",
        "    if 6*a + 16*b <= 48000 and 12*a + 6*b <= 42000 and 9*a + 9*b <= 36000:\n",
        "      z = 4*a + 3*b\n",
        "      if z > z_best:\n",
        "        z_best = z\n",
        "        a_best = a\n",
        "        b_best = b\n",
        "print('El máximo beneficio es de $', z_best, 'y se da para', a_best, \n",
        "      'unidades de A y', b_best, 'unidades de B')"
      ],
      "metadata": {
        "colab": {
          "base_uri": "https://localhost:8080/"
        },
        "id": "YFSSHlYqlz0p",
        "outputId": "e815d1a1-bb24-4107-97a5-c52d62bfd8f0"
      },
      "execution_count": null,
      "outputs": [
        {
          "output_type": "stream",
          "name": "stdout",
          "text": [
            "El máximo beneficio es de $ 15000 y se da para 3000 unidades de A y 1000 unidades de B\n"
          ]
        }
      ]
    },
    {
      "cell_type": "markdown",
      "source": [
        "Código del Chat GPT"
      ],
      "metadata": {
        "id": "-5fnq332tJt0"
      }
    },
    {
      "cell_type": "code",
      "source": [
        "!pip install pulp"
      ],
      "metadata": {
        "colab": {
          "base_uri": "https://localhost:8080/"
        },
        "id": "IQlJ1JLzskn2",
        "outputId": "b9751482-aee8-4088-f08e-a07650f2bec1"
      },
      "execution_count": null,
      "outputs": [
        {
          "output_type": "stream",
          "name": "stdout",
          "text": [
            "Looking in indexes: https://pypi.org/simple, https://us-python.pkg.dev/colab-wheels/public/simple/\n",
            "Collecting pulp\n",
            "  Downloading PuLP-2.7.0-py3-none-any.whl (14.3 MB)\n",
            "\u001b[2K     \u001b[90m━━━━━━━━━━━━━━━━━━━━━━━━━━━━━━━━━━━━━━━━\u001b[0m \u001b[32m14.3/14.3 MB\u001b[0m \u001b[31m71.1 MB/s\u001b[0m eta \u001b[36m0:00:00\u001b[0m\n",
            "\u001b[?25hInstalling collected packages: pulp\n",
            "Successfully installed pulp-2.7.0\n"
          ]
        }
      ]
    },
    {
      "cell_type": "code",
      "source": [
        "# Importar la biblioteca PuLP\n",
        "import pulp as pl\n",
        "\n",
        "# Crear un problema de maximización\n",
        "prob = pl.LpProblem('Maximización', pl.LpMaximize)\n",
        "\n",
        "# Definir las variables de decisión\n",
        "A = pl.LpVariable('A', lowBound=0, cat='Continuous')\n",
        "B = pl.LpVariable('B', lowBound=0, cat='Continuous')\n",
        "\n",
        "# Definir la función objetivo\n",
        "prob += 4 * A + 3 * B\n",
        "\n",
        "# Definir las restricciones\n",
        "prob += 6 * A + 16 * B <= 48000\n",
        "prob += 12 * A + 6 * B <= 42000\n",
        "prob += 9 * A + 9 * B <= 36000\n",
        "\n",
        "# Resolver el problema\n",
        "prob.solve()\n",
        "\n",
        "# Imprimir el resultado\n",
        "print(\"Status: \", pl.LpStatus[prob.status])\n",
        "print(\"Valor de A = \", pl.value(A))\n",
        "print(\"Valor de B = \", pl.value(B))\n",
        "print(\"Valor óptimo de Z = \", pl.value(prob.objective))"
      ],
      "metadata": {
        "colab": {
          "base_uri": "https://localhost:8080/"
        },
        "id": "vLthMVp1sb-4",
        "outputId": "d109896e-1bbd-4ca7-e5c0-dd82785e0dcc"
      },
      "execution_count": null,
      "outputs": [
        {
          "output_type": "stream",
          "name": "stdout",
          "text": [
            "Status:  Optimal\n",
            "Valor de A =  3000.0\n",
            "Valor de B =  1000.0\n",
            "Valor óptimo de Z =  15000.0\n"
          ]
        }
      ]
    },
    {
      "cell_type": "markdown",
      "source": [
        "\n",
        "\n",
        "\n",
        "\n",
        "---\n",
        "\n",
        "\n",
        "\n"
      ],
      "metadata": {
        "id": "hg3tWczL6AqW"
      }
    },
    {
      "cell_type": "markdown",
      "source": [
        "## Ejercicio 2"
      ],
      "metadata": {
        "id": "chdumnRQ5mJu"
      }
    },
    {
      "cell_type": "markdown",
      "source": [
        "Un fabricante entrega cajas de bombones de un kilogramo, de variedades A y B. \n",
        "\n",
        "Cada variedad de caja tiene la siguiente cantidad de bombones (en gramos):\n",
        "\n",
        "|Tipo |  A  |  B  |Disponible|\n",
        "|:---:|:---:|:---:|:--------:|\n",
        "|Licor| 300 | 400 | 100000   |\n",
        "|Nuez | 500 | 200 | 120000   |\n",
        "|Fruta| 200 | 400 | 100000   |\n",
        "\n",
        "La utilidad por cada caja tipo A es de $120 y de 90 para tipo B. \n",
        "\n",
        "Se pide definir la cantidad de cajas de cada tipo que debe armar en esta situación, para que su **beneficio sea máximo**. "
      ],
      "metadata": {
        "id": "Bb3PDJWQ5_n_"
      }
    },
    {
      "cell_type": "markdown",
      "source": [
        "Las inecuaciones del problema se plantean como\n",
        "\n",
        "> Licor: $ 300.a + 400.b ≤ 100000 $\n",
        "\n",
        "> Nuez: $ 500.a + 200.b ≤ 120000 $\n",
        "\n",
        "> Fruta: $ 200.a + 400.b ≤ 100000 $"
      ],
      "metadata": {
        "id": "J7cB5WoxD599"
      }
    },
    {
      "cell_type": "markdown",
      "source": [
        "### Resolución gráfica"
      ],
      "metadata": {
        "id": "MitpNR8Np2ze"
      }
    },
    {
      "cell_type": "code",
      "source": [
        "import matplotlib.pyplot as plt\n",
        "\n",
        "def f1(a): #Licor\n",
        "  return 250 - 0.75*a\n",
        "\n",
        "def f2(a): #Nuez\n",
        "  return 600 - 2.5*a\n",
        "\n",
        "def f3(a): #Fruta\n",
        "  return 250 - 0.5*a\n",
        "\n",
        "a = range(0, 500)\n",
        "\n",
        "plt.plot(a, [f1(i) for i in a])\n",
        "plt.plot(a, [f2(i) for i in a])\n",
        "plt.plot(a, [f3(i) for i in a])\n",
        "plt.scatter(200,100, color = 'black')\n",
        "\n",
        "plt.xlim(0, 500)\n",
        "plt.ylim(0, 600)\n",
        "plt.xlabel('Cajas A')\n",
        "plt.ylabel('Cajas B')\n",
        "\n",
        "plt.fill_between([0, 200], [250, 100], color = 'yellow', alpha = 0.3)\n",
        "plt.fill_between([200, 240], [100, 0], color = 'yellow', alpha = 0.3)\n",
        "\n",
        "plt.show()"
      ],
      "metadata": {
        "colab": {
          "base_uri": "https://localhost:8080/",
          "height": 283
        },
        "id": "Y9s-uCQoEaoF",
        "outputId": "f878f9d8-bf1b-4565-a5da-61b9bff7e247"
      },
      "execution_count": null,
      "outputs": [
        {
          "output_type": "display_data",
          "data": {
            "text/plain": [
              "<Figure size 432x288 with 1 Axes>"
            ],
            "image/png": "[encoded data removed]"
          },
          "metadata": {
            "needs_background": "light"
          }
        }
      ]
    },
    {
      "cell_type": "markdown",
      "source": [
        "Se puede ver en el gráfico que el punto máximo es para **200 cajas de A y 100 cajas de B**. Si la función de maximización es:\n",
        "\n",
        "\n",
        "> MAX: $Z = 120.A + 90.B$\n",
        "\n",
        "Entonces, para el punto máximo de la gráfica, resulta **Z = 33.000**\n",
        "\n"
      ],
      "metadata": {
        "id": "s3S59kUBIEuE"
      }
    },
    {
      "cell_type": "markdown",
      "source": [
        "### Programación lineal"
      ],
      "metadata": {
        "id": "ssbQsx76qTca"
      }
    },
    {
      "cell_type": "code",
      "source": [
        "z_best = -1000\n",
        "a_best = 0\n",
        "b_best = 0\n",
        "for a in range (0, 500):\n",
        "  for b in range (0, 600):\n",
        "    if 300*a + 400.*b <= 100000 and 500*a + 200*b <= 120000 and 200*a + 400*b <= 100000:\n",
        "      z = 120*a + 90*b\n",
        "      if z > z_best:\n",
        "        z_best = z\n",
        "        a_best = a\n",
        "        b_best = b\n",
        "print('El máximo beneficio es de $', z_best, 'y se da para', a_best, \n",
        "      'unidades de A y', b_best, 'unidades de B')"
      ],
      "metadata": {
        "colab": {
          "base_uri": "https://localhost:8080/"
        },
        "outputId": "9bd783f5-279e-499f-e5be-1ed5f50563ec",
        "id": "PfBsZXAzqYNs"
      },
      "execution_count": null,
      "outputs": [
        {
          "output_type": "stream",
          "name": "stdout",
          "text": [
            "El máximo beneficio es de $ 33000 y se da para 200 unidades de A y 100 unidades de B\n"
          ]
        }
      ]
    },
    {
      "cell_type": "markdown",
      "source": [
        "\n",
        "\n",
        "---\n",
        "\n"
      ],
      "metadata": {
        "id": "0Aiu6KfoJdbV"
      }
    },
    {
      "cell_type": "markdown",
      "source": [
        "## Ejercicio 5"
      ],
      "metadata": {
        "id": "-a1LhywEJqyj"
      }
    },
    {
      "cell_type": "markdown",
      "source": [
        "Se desea definir las cantidades a fabricar dos productos A y B.\n",
        "\n",
        "Se presentan los tiempos unitarios de cada producto en cada máquina:\n",
        "\n",
        "| Maq | A | B  | Disp |\n",
        "|:---:|:-:|:--:|:----:|\n",
        "| 1   | 1 | 0.4| 200|\n",
        "| 2   | 0.5| -|200|\n",
        "\n",
        "El márgen bruto unitario para A es de 12 y para B de 8. \n",
        "\n",
        "Se pide optimizar el margen total. "
      ],
      "metadata": {
        "id": "vqKvlaUQJwFc"
      }
    },
    {
      "cell_type": "markdown",
      "source": [
        "Planteo las inecuaciones teniendo en cuenta las restricciones que da el ejercicio:\n",
        "\n",
        "\n",
        "> $a ≥ 50$\n",
        "\n",
        "\n",
        "> $b ≥ 4.a$\n",
        "\n",
        "\n",
        "> $a + 0,4.b ≤ 200$\n",
        "\n",
        "\n",
        "> $0,5.a ≤  200 $\n",
        "\n",
        "Y esta última ecuación puede escribirse como:\n",
        "\n",
        "\n",
        "> $ a ≤ 400 $"
      ],
      "metadata": {
        "id": "Bg3YEogPLLre"
      }
    },
    {
      "cell_type": "markdown",
      "source": [
        "### Programación lineal"
      ],
      "metadata": {
        "id": "ASmr8Sdxq5Mb"
      }
    },
    {
      "cell_type": "code",
      "source": [
        "z_best = -1000\n",
        "a_best = 0\n",
        "b_best = 0\n",
        "for a in range (50, 400):\n",
        "  for b in range (0, 500):\n",
        "    if 4*a - b <= 0 and a + 0.4*b <= 200:\n",
        "      z = 12*a + 8*b\n",
        "      if z > z_best:\n",
        "        z_best = z\n",
        "        a_best = a\n",
        "        b_best = b\n",
        "print('El máximo beneficio es de $', z_best, 'y se da para', a_best, \n",
        "      'unidades de A y', b_best, 'unidades de B')"
      ],
      "metadata": {
        "colab": {
          "base_uri": "https://localhost:8080/"
        },
        "outputId": "1461a82d-91c0-4a42-da6d-f65b73a69ee0",
        "id": "k0SQWt5urEMz"
      },
      "execution_count": null,
      "outputs": [
        {
          "output_type": "stream",
          "name": "stdout",
          "text": [
            "El máximo beneficio es de $ 3600 y se da para 50 unidades de A y 375 unidades de B\n"
          ]
        }
      ]
    },
    {
      "cell_type": "markdown",
      "source": [
        "### Resolución gráfica"
      ],
      "metadata": {
        "id": "cGrD_PHjq-Cd"
      }
    },
    {
      "cell_type": "code",
      "source": [
        "import matplotlib.pyplot as plt\n",
        "\n",
        "def f1(b): #Maquina 1\n",
        "  return 200 - 0.4*b\n",
        "\n",
        "def f2(b): #Produccion B\n",
        "  return 0.25*b\n",
        "\n",
        "b = range(0, 500)\n",
        "\n",
        "plt.plot(b, [f1(i) for i in b])\n",
        "plt.plot(b, [f2(i) for i in b])\n",
        "plt.hlines(y = 400, xmin = 0, xmax = 500, color = 'green')\n",
        "plt.hlines(y = 40, xmin = 0, xmax = 500, color = 'purple')\n",
        "\n",
        "plt.xlim(0, 500)\n",
        "plt.ylim(0, 500)\n",
        "plt.xlabel('Producto B')\n",
        "plt.ylabel('Prodcuto A')\n",
        "\n",
        "plt.show()"
      ],
      "metadata": {
        "colab": {
          "base_uri": "https://localhost:8080/",
          "height": 283
        },
        "outputId": "668beff2-fb40-4873-947f-2b6f32de2022",
        "id": "5y3hQ9lCMmmk"
      },
      "execution_count": null,
      "outputs": [
        {
          "output_type": "display_data",
          "data": {
            "text/plain": [
              "<Figure size 432x288 with 1 Axes>"
            ],
            "image/png": "[encoded data removed]"
          },
          "metadata": {
            "needs_background": "light"
          }
        }
      ]
    },
    {
      "cell_type": "markdown",
      "source": [
        "Grafico nuevamente quitando la restricción de $ a ≤ 400 $, ya que me queda muy por fuera del area analizada"
      ],
      "metadata": {
        "id": "yAy4Mw8FOlkb"
      }
    },
    {
      "cell_type": "code",
      "source": [
        "import matplotlib.pyplot as plt\n",
        "import numpy as np\n",
        "\n",
        "b = np.arange(0, 500)\n",
        "\n",
        "a1 = 200 - 0.4*b\n",
        "a2 = 0.25*b\n",
        "a3 = 40 + 0*b\n",
        "a4 = np.minimum(a1, a2)\n",
        "\n",
        "plt.plot(b, a1)\n",
        "plt.plot(b, a2)\n",
        "plt.plot(b, a3)\n",
        "\n",
        "plt.xlim(0, 500)\n",
        "plt.ylim(0, 200)\n",
        "plt.xlabel('Producto B')\n",
        "plt.ylabel('Producto A')\n",
        "\n",
        "plt.fill_between(b, a4, a3, where = a4 >= a3, color = 'yellow', alpha = 0.3)\n",
        "\n",
        "a_max = 300 - 0.6667*b\n",
        "plt.plot(b, a_max)\n",
        "plt.show()"
      ],
      "metadata": {
        "colab": {
          "base_uri": "https://localhost:8080/",
          "height": 283
        },
        "outputId": "ba09dadb-1d4a-4685-b624-cbff11ca3b41",
        "id": "g-hKHqG9Okzb"
      },
      "execution_count": null,
      "outputs": [
        {
          "output_type": "display_data",
          "data": {
            "text/plain": [
              "<Figure size 432x288 with 1 Axes>"
            ],
            "image/png": "[encoded data removed]"
          },
          "metadata": {
            "needs_background": "light"
          }
        }
      ]
    },
    {
      "cell_type": "markdown",
      "source": [
        "Como calcule la respuesta con programación lineal, puedo ver donde se haya el máximo beneficio. Quizás hubiera sido mejor plantear el problema con variables *slack* para ver donde se cruzaban"
      ],
      "metadata": {
        "id": "LzSiP53zt8Wj"
      }
    },
    {
      "cell_type": "markdown",
      "source": [
        "\n",
        "\n",
        "---\n",
        "\n"
      ],
      "metadata": {
        "id": "QAs7UlLqkoDs"
      }
    },
    {
      "cell_type": "markdown",
      "source": [
        "## Ejercicio 7"
      ],
      "metadata": {
        "id": "2Db5kEtukqEW"
      }
    },
    {
      "cell_type": "markdown",
      "source": [
        "Una empresa automotriz fabrica automóviles (A) y camiones (C). La capacidad de producción de cada departamento es:\n",
        "\n",
        "- Estampado: $A ≤ 25000 $ ó $ C ≤ 40000$\n",
        "- Motores: $A ≤ 33333 $ ó $ C ≤ 16667$\n",
        "- Montaje A: $A ≤ 22500$\n",
        "- Montaje C: $C≤15000$\n",
        "\n",
        "Además se desea que $ 12000≤A≤18000$  y  $ C≥8000$\n"
      ],
      "metadata": {
        "id": "UQZtsg72kuzM"
      }
    },
    {
      "cell_type": "markdown",
      "source": [
        "Resultan entonces las inecuaciones para el ejercicio:\n",
        "\n",
        "> $12000≤A≤18000$ \n",
        "\n",
        "> $8000≤C≤15000$ \n",
        "\n",
        "\n",
        "\n"
      ],
      "metadata": {
        "id": "KELOuPi2pIRa"
      }
    },
    {
      "cell_type": "markdown",
      "source": [
        "### Resolución gráfica"
      ],
      "metadata": {
        "id": "yJv_jfsduUCN"
      }
    },
    {
      "cell_type": "code",
      "source": [
        "import matplotlib.pyplot as plt\n",
        "import numpy as np\n",
        "\n",
        "c1 = plt.hlines(y = 15, xmin = 0, xmax = 20, color = 'green')\n",
        "c2 = plt.hlines(y = 8, xmin = 0, xmax = 20, color = 'green')\n",
        "\n",
        "a1 = plt.vlines(x = 12, ymin = 0, ymax = 17, color = 'blue')\n",
        "a2 = plt.vlines(x = 18, ymin = 0, ymax = 17, color = 'blue')\n",
        "\n",
        "x = [12, 12, 18, 18]\n",
        "y = [8, 15, 15, 8]\n",
        "plt.fill(x, y, color = 'yellow', alpha = 0.3)\n",
        "plt.scatter(18, 15, color = 'black')\n",
        "\n",
        "plt.xlim(0, 20)\n",
        "plt.ylim(0, 17)\n",
        "plt.xlabel('Miles de autos')\n",
        "plt.ylabel('Miles de camiones')\n",
        "plt.show()"
      ],
      "metadata": {
        "colab": {
          "base_uri": "https://localhost:8080/",
          "height": 279
        },
        "id": "YEBB4BtJn_jU",
        "outputId": "139666a3-48c8-4490-9bf4-2172d569753b"
      },
      "execution_count": null,
      "outputs": [
        {
          "output_type": "display_data",
          "data": {
            "text/plain": [
              "<Figure size 432x288 with 1 Axes>"
            ],
            "image/png": "[encoded data removed]"
          },
          "metadata": {
            "needs_background": "light"
          }
        }
      ]
    },
    {
      "cell_type": "markdown",
      "source": [
        "Se ve del gráfico que el punto máximo es en 18000 unidades de automóviles y 15000 unidades de camiones. \n",
        "\n",
        "El margen de beneficios es de $15000 por A y de 12500 por C, por lo tanto queda planteado el beneficio total como:\n",
        "\n",
        "\n",
        "> $Z = 15000.A + 12500.B$\n",
        "\n",
        "y para que resulte máximo, calculo con las unidades del punto máximo y resulta: **Z = 4575**"
      ],
      "metadata": {
        "id": "g-3VUblx4jfQ"
      }
    },
    {
      "cell_type": "markdown",
      "source": [
        "### Programación lineal"
      ],
      "metadata": {
        "id": "7xon2_gcudDh"
      }
    },
    {
      "cell_type": "code",
      "source": [
        "# Importamos la biblioteca PuLP\n",
        "import pulp as pl\n",
        "\n",
        "# Creamos una instancia de un problema de maximización\n",
        "problema = pl.LpProblem(\"Problema de programación lineal\", pl.LpMaximize)\n",
        "\n",
        "# Definimos las variables de decisión\n",
        "A= pl.LpVariable('A', lowBound=0, cat='Continuous')\n",
        "C= pl.LpVariable('C', lowBound=0, cat='Continuous')\n",
        "\n",
        "# Definimos la función objetivo\n",
        "problema += 15000 * A + 12500 * C\n",
        "\n",
        "# Definimos las restricciones\n",
        "problema += C <= 15000\n",
        "problema += A >= 12000\n",
        "problema += A <= 18000\n",
        "problema += C >= 8000\n",
        "\n",
        "# Resolvemos el problema\n",
        "problema.solve()\n",
        "\n",
        "# Imprimir el resultado\n",
        "print(\"Status: \", pl.LpStatus[prob.status])\n",
        "print(\"Valor de A = \", pl.value(A))\n",
        "print(\"Valor de C = \", pl.value(C))\n",
        "print(\"Valor óptimo de Z = \", pl.value(prob.objective))"
      ],
      "metadata": {
        "colab": {
          "base_uri": "https://localhost:8080/"
        },
        "id": "HjoS5J3OvoP6",
        "outputId": "fd332566-dc18-4224-ff60-7dc5bea89eb1"
      },
      "execution_count": null,
      "outputs": [
        {
          "output_type": "stream",
          "name": "stdout",
          "text": [
            "Status:  Optimal\n",
            "Valor de A =  18000.0\n",
            "Valor de C =  15000.0\n",
            "Valor óptimo de Z =  15000.0\n"
          ]
        }
      ]
    }
  ]
}